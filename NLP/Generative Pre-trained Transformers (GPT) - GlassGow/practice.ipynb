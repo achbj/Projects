{
 "cells": [
  {
   "cell_type": "code",
   "execution_count": 1,
   "id": "5db59678-c105-44dd-9af2-b22190ca6f2e",
   "metadata": {},
   "outputs": [],
   "source": [
    "# Tokens of the sentences\n",
    "sample1 = ['It', 'shows', ',', 'my', 'dear', 'Watson', ',', 'that',\n",
    "           'we', 'are', 'dealing', 'with', 'an', 'exceptionally',\n",
    "           'astute', 'and', 'dangerous', 'man', '.']\n",
    "sample2 = ['How', 'would', 'Lausanne', 'do', ',', 'my', 'dear',\n",
    "           'Watson', '?']"
   ]
  },
  {
   "cell_type": "code",
   "execution_count": 3,
   "id": "e46fca5a-2407-4ec0-8965-d38e6f8ae3fd",
   "metadata": {},
   "outputs": [
    {
     "data": {
      "text/plain": [
       "[('It', 'shows', ','),\n",
       " ('shows', ',', 'my'),\n",
       " (',', 'my', 'dear'),\n",
       " ('my', 'dear', 'Watson'),\n",
       " ('dear', 'Watson', ','),\n",
       " ('Watson', ',', 'that'),\n",
       " (',', 'that', 'we'),\n",
       " ('that', 'we', 'are'),\n",
       " ('we', 'are', 'dealing'),\n",
       " ('are', 'dealing', 'with'),\n",
       " ('dealing', 'with', 'an'),\n",
       " ('with', 'an', 'exceptionally'),\n",
       " ('an', 'exceptionally', 'astute'),\n",
       " ('exceptionally', 'astute', 'and'),\n",
       " ('astute', 'and', 'dangerous'),\n",
       " ('and', 'dangerous', 'man'),\n",
       " ('dangerous', 'man', '.')]"
      ]
     },
     "execution_count": 3,
     "metadata": {},
     "output_type": "execute_result"
    }
   ],
   "source": [
    "from typing import List, Tuple, Dict\n",
    "\n",
    "def build_ngram(tokens: List[str], n: int) -> List[Tuple[str]]:\n",
    "    ngrams = []\n",
    "\n",
    "    for i in range(len(tokens)-n+1):\n",
    "        ngram = tuple(tokens[i:i+n])\n",
    "        ngrams.append(ngram)\n",
    "    return ngrams\n",
    "\n",
    "build_ngram(sample1, n=3)"
   ]
  },
  {
   "cell_type": "code",
   "execution_count": 6,
   "id": "a9d64fd9-ac1b-4f67-b46f-a859269685fc",
   "metadata": {},
   "outputs": [
    {
     "data": {
      "text/plain": [
       "[['<BOS>', '<BOS>', 'It'],\n",
       " ['<BOS>', 'It', 'shows'],\n",
       " ['It', 'shows', ','],\n",
       " ['shows', ',', 'my'],\n",
       " [',', 'my', 'dear'],\n",
       " ['my', 'dear', 'Watson'],\n",
       " ['dear', 'Watson', ','],\n",
       " ['Watson', ',', 'that'],\n",
       " [',', 'that', 'we'],\n",
       " ['that', 'we', 'are'],\n",
       " ['we', 'are', 'dealing'],\n",
       " ['are', 'dealing', 'with'],\n",
       " ['dealing', 'with', 'an'],\n",
       " ['with', 'an', 'exceptionally'],\n",
       " ['an', 'exceptionally', 'astute'],\n",
       " ['exceptionally', 'astute', 'and'],\n",
       " ['astute', 'and', 'dangerous'],\n",
       " ['and', 'dangerous', 'man'],\n",
       " ['dangerous', 'man', '.'],\n",
       " ['man', '.', '<EOS>'],\n",
       " ['.', '<EOS>', '<EOS>']]"
      ]
     },
     "execution_count": 6,
     "metadata": {},
     "output_type": "execute_result"
    }
   ],
   "source": [
    "BOS = '<BOS>'\n",
    "EOS = '<EOS>'\n",
    "\n",
    "def build_ngrams_ctrl(tokens: List[str], n: int) -> List[Tuple[str]]:\n",
    "    modified_tokens = [BOS] * (n-1) + tokens + [EOS] * (n-1)\n",
    "    ngrams = []\n",
    "\n",
    "    for i in range(len(modified_tokens)-n+1):\n",
    "        ngram = modified_tokens[i: i+n]\n",
    "        ngrams.append(ngram)\n",
    "    return ngrams\n",
    "    \n",
    "build_ngrams_ctrl(sample1, n=3)"
   ]
  },
  {
   "cell_type": "code",
   "execution_count": 9,
   "id": "686f1e21-e9ae-4cec-be6e-b44223f4ce89",
   "metadata": {},
   "outputs": [],
   "source": [
    "def count_ngram(texts: List[List[str]], n:int) -> Dict[Tuple[str, ...], Dict[str, int]]:\n",
    "    \n",
    "    ngram_counts = {}\n",
    "    \n",
    "    for tokens in texts:\n",
    "        ngrams = build_ngrams_ctrl(tokens, n)\n",
    "        for ngram in ngrams:\n",
    "            prefix = ngram[:-1]\n",
    "            following_word = ngram[-1]\n",
    "\n",
    "            if prefix not in ngram_counts:\n",
    "                ngram_counts[prefix] = {}\n",
    "            if following_word not in ngram_counts[prefix]:\n",
    "                ngram_counts[prefix][following_word] = 1\n",
    "            else:\n",
    "                ngram_counts[prefix][following_word] +=1\n",
    "    return ngram_counts"
   ]
  },
  {
   "cell_type": "code",
   "execution_count": 10,
   "id": "214efa24-b64d-430d-9410-41a8209fa4e5",
   "metadata": {},
   "outputs": [
    {
     "ename": "TypeError",
     "evalue": "unhashable type: 'list'",
     "output_type": "error",
     "traceback": [
      "\u001b[0;31m---------------------------------------------------------------------------\u001b[0m",
      "\u001b[0;31mTypeError\u001b[0m                                 Traceback (most recent call last)",
      "Cell \u001b[0;32mIn[10], line 1\u001b[0m\n\u001b[0;32m----> 1\u001b[0m \u001b[43mcount_ngram\u001b[49m\u001b[43m(\u001b[49m\u001b[43m[\u001b[49m\u001b[43msample1\u001b[49m\u001b[43m,\u001b[49m\u001b[43m \u001b[49m\u001b[43msample2\u001b[49m\u001b[43m]\u001b[49m\u001b[43m,\u001b[49m\u001b[43m \u001b[49m\u001b[43mn\u001b[49m\u001b[38;5;241;43m=\u001b[39;49m\u001b[38;5;241;43m3\u001b[39;49m\u001b[43m)\u001b[49m\n",
      "Cell \u001b[0;32mIn[9], line 9\u001b[0m, in \u001b[0;36mcount_ngram\u001b[0;34m(texts, n)\u001b[0m\n\u001b[1;32m      6\u001b[0m prefix \u001b[38;5;241m=\u001b[39m ngram[:\u001b[38;5;241m-\u001b[39m\u001b[38;5;241m1\u001b[39m]\n\u001b[1;32m      7\u001b[0m following_word \u001b[38;5;241m=\u001b[39m ngram[\u001b[38;5;241m-\u001b[39m\u001b[38;5;241m1\u001b[39m]\n\u001b[0;32m----> 9\u001b[0m \u001b[38;5;28;01mif\u001b[39;00m \u001b[43mprefix\u001b[49m\u001b[43m \u001b[49m\u001b[38;5;129;43;01mnot\u001b[39;49;00m\u001b[43m \u001b[49m\u001b[38;5;129;43;01min\u001b[39;49;00m\u001b[43m \u001b[49m\u001b[43mngram_counts\u001b[49m:\n\u001b[1;32m     10\u001b[0m     ngram_counts[prefix] \u001b[38;5;241m=\u001b[39m {}\n\u001b[1;32m     11\u001b[0m \u001b[38;5;28;01mif\u001b[39;00m following_word \u001b[38;5;129;01mnot\u001b[39;00m \u001b[38;5;129;01min\u001b[39;00m ngram_counts[prefix]:\n",
      "\u001b[0;31mTypeError\u001b[0m: unhashable type: 'list'"
     ]
    }
   ],
   "source": [
    "count_ngram([sample1, sample2], n=3)"
   ]
  },
  {
   "cell_type": "code",
   "execution_count": null,
   "id": "f37a2ccd-d2f3-47f9-8c6b-1126f5abfcd1",
   "metadata": {},
   "outputs": [],
   "source": []
  }
 ],
 "metadata": {
  "kernelspec": {
   "display_name": "Python 3.10 (nn)",
   "language": "python",
   "name": "nn"
  },
  "language_info": {
   "codemirror_mode": {
    "name": "ipython",
    "version": 3
   },
   "file_extension": ".py",
   "mimetype": "text/x-python",
   "name": "python",
   "nbconvert_exporter": "python",
   "pygments_lexer": "ipython3",
   "version": "3.10.11"
  }
 },
 "nbformat": 4,
 "nbformat_minor": 5
}
